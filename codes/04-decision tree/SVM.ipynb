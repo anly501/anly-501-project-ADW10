{
 "cells": [
  {
   "cell_type": "markdown",
   "metadata": {},
   "source": [
    "---\n",
    "author: \"Yifei Wu\"\n",
    "format: \n",
    "  html:s\n",
    "    include-in-header: HS.html\n",
    "    toc: true\n",
    "    code-fold: true\n",
    "    code-tools: true\n",
    "    number-sections: true\n",
    "    fig-align : center\n",
    "    fontsize : large\n",
    "    mainfont: Source Sans Pro, Helvetica Neue, Helvetica, Arial, sans-serif;\n",
    "---"
   ]
  },
  {
   "cell_type": "markdown",
   "metadata": {},
   "source": [
    "# Introduction"
   ]
  },
  {
   "cell_type": "markdown",
   "metadata": {},
   "source": [
    "In this tab, we tried to build a distinguisher that used to distinguish the  Tweets the user sent about the FIFA WorldCup which is official and unofficial and the model called SVM(Supported Vector Machine) will be used. "
   ]
  },
  {
   "cell_type": "markdown",
   "metadata": {},
   "source": [
    "# Theory"
   ]
  },
  {
   "cell_type": "markdown",
   "metadata": {},
   "source": [
    "In machine learning, support vector machines (SVMs, also support vector networks) are supervised learning models with associated learning algorithms that analyze data for classification and regression analysis.\n",
    "\n",
    "In addition to performing linear classification, SVMs can efficiently perform a non-linear classification using what is called the kernel trick, implicitly mapping their inputs into high-dimensional feature spaces.\n",
    "\n",
    "When data are unlabelled, supervised learning is not possible, and an unsupervised learning approach is required, which attempts to find natural clustering of the data to groups, and then map new data to these formed groups. The support vector clustering algorithm, created by Hava Siegelmann and Vladimir Vapnik, applies the statistics of support vectors, developed in the support vector machines algorithm, to categorize unlabeled data.\n",
    "\n",
    "More formally, a support vector machine constructs a hyperplane or set of hyperplanes in a high or infinite-dimensional space, which can be used for classification, regression, or other tasks like outliers detection.[3] Intuitively, a good separation is achieved by the hyperplane that has the largest distance to the nearest training-data point of any class (so-called functional margin), since in general the larger the margin, the lower the generalization error of the classifier"
   ]
  },
  {
   "cell_type": "markdown",
   "metadata": {},
   "source": [
    "# Read Data"
   ]
  },
  {
   "cell_type": "code",
   "execution_count": 2,
   "metadata": {},
   "outputs": [],
   "source": [
    "#import library\n",
    "import numpy as np\n",
    "import pandas as pd\n",
    "import matplotlib.pyplot as plt\n",
    "import seaborn as sns\n",
    "from sklearn.svm import SVC\n",
    "from sklearn.model_selection import GridSearchCV\n",
    "from sklearn.model_selection import train_test_split\n",
    "from sklearn.feature_extraction.text import CountVectorizer\n",
    "from sklearn.metrics import accuracy_score\n",
    "from sklearn.metrics import precision_recall_fscore_support\n",
    "from sklearn.metrics import precision_score\n",
    "from sklearn.metrics import recall_score\n",
    "from sklearn.metrics import confusion_matrix\n"
   ]
  },
  {
   "cell_type": "code",
   "execution_count": 4,
   "metadata": {},
   "outputs": [
    {
     "data": {
      "text/html": [
       "<div>\n",
       "<style scoped>\n",
       "    .dataframe tbody tr th:only-of-type {\n",
       "        vertical-align: middle;\n",
       "    }\n",
       "\n",
       "    .dataframe tbody tr th {\n",
       "        vertical-align: top;\n",
       "    }\n",
       "\n",
       "    .dataframe thead th {\n",
       "        text-align: right;\n",
       "    }\n",
       "</style>\n",
       "<table border=\"1\" class=\"dataframe\">\n",
       "  <thead>\n",
       "    <tr style=\"text-align: right;\">\n",
       "      <th></th>\n",
       "      <th>created_at</th>\n",
       "      <th>author_id</th>\n",
       "      <th>Tweet Point</th>\n",
       "      <th>Follows</th>\n",
       "      <th>Likes</th>\n",
       "      <th>text</th>\n",
       "      <th>keyword</th>\n",
       "      <th>label</th>\n",
       "      <th>unofficial</th>\n",
       "      <th>retweet_count</th>\n",
       "    </tr>\n",
       "  </thead>\n",
       "  <tbody>\n",
       "    <tr>\n",
       "      <th>0</th>\n",
       "      <td>2022-09-13T23:58:10.000Z</td>\n",
       "      <td>1.447698e+18</td>\n",
       "      <td>-0.2960</td>\n",
       "      <td>1324.0</td>\n",
       "      <td>594.0</td>\n",
       "      <td>Dr alhammadi 22 They are also the graves of th...</td>\n",
       "      <td>qatar2022</td>\n",
       "      <td>1.0</td>\n",
       "      <td>0.0</td>\n",
       "      <td>0</td>\n",
       "    </tr>\n",
       "    <tr>\n",
       "      <th>1</th>\n",
       "      <td>2022-09-13T23:31:59.000Z</td>\n",
       "      <td>2.986481e+09</td>\n",
       "      <td>-0.4515</td>\n",
       "      <td>697325.0</td>\n",
       "      <td>2907.0</td>\n",
       "      <td>DolapoAina  FIFAWorldCup  qatarairways  aviati...</td>\n",
       "      <td>qatar2022</td>\n",
       "      <td>1.0</td>\n",
       "      <td>0.0</td>\n",
       "      <td>65</td>\n",
       "    </tr>\n",
       "    <tr>\n",
       "      <th>2</th>\n",
       "      <td>2022-09-13T23:20:24.000Z</td>\n",
       "      <td>3.133369e+09</td>\n",
       "      <td>0.0000</td>\n",
       "      <td>465.0</td>\n",
       "      <td>177.0</td>\n",
       "      <td>If anyone knows anyone going to Qatar for the ...</td>\n",
       "      <td>qatar2022</td>\n",
       "      <td>1.0</td>\n",
       "      <td>0.0</td>\n",
       "      <td>32</td>\n",
       "    </tr>\n",
       "    <tr>\n",
       "      <th>3</th>\n",
       "      <td>2022-09-13T23:08:07.000Z</td>\n",
       "      <td>4.701157e+09</td>\n",
       "      <td>0.0000</td>\n",
       "      <td>334.0</td>\n",
       "      <td>1524.0</td>\n",
       "      <td>67 DAYS TO GO      Qatar2022  FIFAWorldCup  Co...</td>\n",
       "      <td>qatar2022</td>\n",
       "      <td>1.0</td>\n",
       "      <td>0.0</td>\n",
       "      <td>0</td>\n",
       "    </tr>\n",
       "    <tr>\n",
       "      <th>4</th>\n",
       "      <td>2022-09-13T23:07:02.000Z</td>\n",
       "      <td>1.529608e+18</td>\n",
       "      <td>0.8475</td>\n",
       "      <td>760.0</td>\n",
       "      <td>1264.0</td>\n",
       "      <td>AlSultanBeach Here is a map I made for World C...</td>\n",
       "      <td>qatar2022</td>\n",
       "      <td>1.0</td>\n",
       "      <td>0.0</td>\n",
       "      <td>176</td>\n",
       "    </tr>\n",
       "    <tr>\n",
       "      <th>...</th>\n",
       "      <td>...</td>\n",
       "      <td>...</td>\n",
       "      <td>...</td>\n",
       "      <td>...</td>\n",
       "      <td>...</td>\n",
       "      <td>...</td>\n",
       "      <td>...</td>\n",
       "      <td>...</td>\n",
       "      <td>...</td>\n",
       "      <td>...</td>\n",
       "    </tr>\n",
       "    <tr>\n",
       "      <th>7083</th>\n",
       "      <td>2022-09-14T17:19:30.000Z</td>\n",
       "      <td>1.559664e+18</td>\n",
       "      <td>0.6697</td>\n",
       "      <td>188.0</td>\n",
       "      <td>38.0</td>\n",
       "      <td>malzamaty For daily rent During the World Cup ...</td>\n",
       "      <td>qatar world cup</td>\n",
       "      <td>0.0</td>\n",
       "      <td>1.0</td>\n",
       "      <td>3</td>\n",
       "    </tr>\n",
       "    <tr>\n",
       "      <th>7084</th>\n",
       "      <td>2022-09-14T17:19:15.000Z</td>\n",
       "      <td>1.559664e+18</td>\n",
       "      <td>0.6697</td>\n",
       "      <td>1735.0</td>\n",
       "      <td>989.0</td>\n",
       "      <td>WWE  nikkita wwe For daily rent During the Wor...</td>\n",
       "      <td>qatar world cup</td>\n",
       "      <td>0.0</td>\n",
       "      <td>1.0</td>\n",
       "      <td>0</td>\n",
       "    </tr>\n",
       "    <tr>\n",
       "      <th>7085</th>\n",
       "      <td>2022-09-14T17:18:59.000Z</td>\n",
       "      <td>1.382067e+18</td>\n",
       "      <td>0.9545</td>\n",
       "      <td>82.0</td>\n",
       "      <td>843.0</td>\n",
       "      <td>I have won a Gold medal by playing Qatar Airwa...</td>\n",
       "      <td>qatar world cup</td>\n",
       "      <td>0.0</td>\n",
       "      <td>1.0</td>\n",
       "      <td>252</td>\n",
       "    </tr>\n",
       "    <tr>\n",
       "      <th>7086</th>\n",
       "      <td>2022-09-14T17:18:56.000Z</td>\n",
       "      <td>1.559664e+18</td>\n",
       "      <td>0.6697</td>\n",
       "      <td>911.0</td>\n",
       "      <td>1547.0</td>\n",
       "      <td>SportsCenter For daily rent During the World C...</td>\n",
       "      <td>qatar world cup</td>\n",
       "      <td>0.0</td>\n",
       "      <td>1.0</td>\n",
       "      <td>0</td>\n",
       "    </tr>\n",
       "    <tr>\n",
       "      <th>7087</th>\n",
       "      <td>2022-09-14T17:18:51.000Z</td>\n",
       "      <td>8.336884e+17</td>\n",
       "      <td>0.6808</td>\n",
       "      <td>491.0</td>\n",
       "      <td>1063.0</td>\n",
       "      <td>Germany s 2022 World Cup campaign set to becom...</td>\n",
       "      <td>qatar world cup</td>\n",
       "      <td>0.0</td>\n",
       "      <td>1.0</td>\n",
       "      <td>252</td>\n",
       "    </tr>\n",
       "  </tbody>\n",
       "</table>\n",
       "<p>7088 rows × 10 columns</p>\n",
       "</div>"
      ],
      "text/plain": [
       "                    created_at     author_id  Tweet Point   Follows   Likes  \\\n",
       "0     2022-09-13T23:58:10.000Z  1.447698e+18      -0.2960    1324.0   594.0   \n",
       "1     2022-09-13T23:31:59.000Z  2.986481e+09      -0.4515  697325.0  2907.0   \n",
       "2     2022-09-13T23:20:24.000Z  3.133369e+09       0.0000     465.0   177.0   \n",
       "3     2022-09-13T23:08:07.000Z  4.701157e+09       0.0000     334.0  1524.0   \n",
       "4     2022-09-13T23:07:02.000Z  1.529608e+18       0.8475     760.0  1264.0   \n",
       "...                        ...           ...          ...       ...     ...   \n",
       "7083  2022-09-14T17:19:30.000Z  1.559664e+18       0.6697     188.0    38.0   \n",
       "7084  2022-09-14T17:19:15.000Z  1.559664e+18       0.6697    1735.0   989.0   \n",
       "7085  2022-09-14T17:18:59.000Z  1.382067e+18       0.9545      82.0   843.0   \n",
       "7086  2022-09-14T17:18:56.000Z  1.559664e+18       0.6697     911.0  1547.0   \n",
       "7087  2022-09-14T17:18:51.000Z  8.336884e+17       0.6808     491.0  1063.0   \n",
       "\n",
       "                                                   text          keyword  \\\n",
       "0     Dr alhammadi 22 They are also the graves of th...        qatar2022   \n",
       "1     DolapoAina  FIFAWorldCup  qatarairways  aviati...        qatar2022   \n",
       "2     If anyone knows anyone going to Qatar for the ...        qatar2022   \n",
       "3     67 DAYS TO GO      Qatar2022  FIFAWorldCup  Co...        qatar2022   \n",
       "4     AlSultanBeach Here is a map I made for World C...        qatar2022   \n",
       "...                                                 ...              ...   \n",
       "7083  malzamaty For daily rent During the World Cup ...  qatar world cup   \n",
       "7084  WWE  nikkita wwe For daily rent During the Wor...  qatar world cup   \n",
       "7085  I have won a Gold medal by playing Qatar Airwa...  qatar world cup   \n",
       "7086  SportsCenter For daily rent During the World C...  qatar world cup   \n",
       "7087  Germany s 2022 World Cup campaign set to becom...  qatar world cup   \n",
       "\n",
       "      label  unofficial  retweet_count  \n",
       "0       1.0         0.0              0  \n",
       "1       1.0         0.0             65  \n",
       "2       1.0         0.0             32  \n",
       "3       1.0         0.0              0  \n",
       "4       1.0         0.0            176  \n",
       "...     ...         ...            ...  \n",
       "7083    0.0         1.0              3  \n",
       "7084    0.0         1.0              0  \n",
       "7085    0.0         1.0            252  \n",
       "7086    0.0         1.0              0  \n",
       "7087    0.0         1.0            252  \n",
       "\n",
       "[7088 rows x 10 columns]"
      ]
     },
     "execution_count": 4,
     "metadata": {},
     "output_type": "execute_result"
    }
   ],
   "source": [
    "#Read the data\n",
    "df=pd.read_csv(\"../../data/01-modified-data/WC cleaneddata.csv\")\n",
    "df"
   ]
  },
  {
   "cell_type": "markdown",
   "metadata": {},
   "source": [
    "# Class Distibution"
   ]
  },
  {
   "cell_type": "code",
   "execution_count": 5,
   "metadata": {},
   "outputs": [
    {
     "data": {
      "text/plain": [
       "Text(0, 0.5, 'Count')"
      ]
     },
     "execution_count": 5,
     "metadata": {},
     "output_type": "execute_result"
    },
    {
     "data": {
      "image/png": "[encoded data removed]",
      "text/plain": [
       "<Figure size 432x288 with 1 Axes>"
      ]
     },
     "metadata": {
      "needs_background": "light"
     },
     "output_type": "display_data"
    }
   ],
   "source": [
    "#Make a plot for the distribution\n",
    "FS=20\n",
    "plt.hist(df.label.astype('string'))\n",
    "plt.title('Distribution of Class',fontsize=FS)\n",
    "plt.xlabel('Class',fontsize=FS)\n",
    "plt.ylabel('Count',fontsize=FS)"
   ]
  },
  {
   "cell_type": "markdown",
   "metadata": {},
   "source": [
    "This data set is a bit imbalanced.Which seperate the official and the unofficial accounts, as the official accounts is less than the unofficial, so it's hard to find the balanced dataset. Maybe the final results would reflect this point."
   ]
  },
  {
   "cell_type": "markdown",
   "metadata": {},
   "source": [
    "# Baseline Model for Comparsion"
   ]
  },
  {
   "cell_type": "code",
   "execution_count": 21,
   "metadata": {},
   "outputs": [
    {
     "name": "stdout",
     "output_type": "stream",
     "text": [
      "-----RANDOM CLASSIFIER-----\n",
      "accuracy 0.5063487584650113\n",
      "percision, recall, fscore, (array([0.6198254 , 0.39242296]), array([0.50597701, 0.50693937]), array([0.55714467, 0.44239044]), array([4350, 2738]))\n"
     ]
    }
   ],
   "source": [
    "y=df[\"label\"]\n",
    "y=y.astype(\"int\")\n",
    "# Make a Baseline Model \n",
    "def random_classifier(y_data):\n",
    "    ypred=[]\n",
    "    max_label=np.max(y_data); #print(max_label)\n",
    "    for i in range(0,len(y_data)):\n",
    "        ypred.append(int(np.floor((max_label+1)*np.random.uniform(0,1))))\n",
    "    print(\"-----RANDOM CLASSIFIER-----\")\n",
    "    print(\"accuracy\",accuracy_score(y_data, ypred))\n",
    "    print(\"percision, recall, fscore,\",precision_recall_fscore_support(y_data,ypred))\n",
    "\n",
    "random_classifier(y)"
   ]
  },
  {
   "cell_type": "markdown",
   "metadata": {},
   "source": [
    "According to the data we can the metric is around 50%, if the model peform better than this, than it's bettter."
   ]
  },
  {
   "cell_type": "markdown",
   "metadata": {},
   "source": [
    "# Feature Selection"
   ]
  },
  {
   "cell_type": "code",
   "execution_count": 5,
   "metadata": {},
   "outputs": [],
   "source": [
    "\n",
    "X=df[\"text\"]\n",
    "y=df['label']\n",
    "y=y.astype(\"int\")\n",
    "#transform texts with countvectorizer\n",
    "vectorizer = CountVectorizer()\n",
    "matrix = vectorizer.fit_transform(X)\n",
    "X = pd.DataFrame(matrix.toarray(),columns=vectorizer.get_feature_names_out())\n",
    "#split the data\n",
    "x_train,x_test,y_train,y_test=train_test_split(X,y,test_size=0.2)\n",
    "\n"
   ]
  },
  {
   "cell_type": "markdown",
   "metadata": {},
   "source": [
    "# Final result: Confusion & Tree model"
   ]
  },
  {
   "cell_type": "code",
   "execution_count": 6,
   "metadata": {},
   "outputs": [
    {
     "name": "stdout",
     "output_type": "stream",
     "text": [
      "ACCURACY: 0.9795486600846263\n",
      "NEGATIVE RECALL (Y=0): 0.978865406006674\n",
      "NEGATIVE PRECISION (Y=0): 0.9887640449438202\n",
      "POSITIVE RECALL (Y=1): 0.9807321772639692\n",
      "POSITIVE PRECISION (Y=1): 0.9640151515151515\n",
      "\n"
     ]
    },
    {
     "data": {
      "image/png": "[encoded data removed]",
      "text/plain": [
       "<Figure size 432x288 with 2 Axes>"
      ]
     },
     "metadata": {
      "needs_background": "light"
     },
     "output_type": "display_data"
    }
   ],
   "source": [
    "#write a function to report and plot the metrics and confusion matrix.\n",
    "def confusion_plot(y_data,y_pred):\n",
    "    print(\n",
    "        \"ACCURACY: \"+str(accuracy_score(y_data,y_pred))+\"\\n\"+\n",
    "        \"NEGATIVE RECALL (Y=0): \"+str(recall_score(y_data,y_pred,pos_label=0))+\"\\n\"+\n",
    "        \"NEGATIVE PRECISION (Y=0): \"+str(precision_score(y_data,y_pred,pos_label=0))+\"\\n\"+\n",
    "        \"POSITIVE RECALL (Y=1): \"+str(recall_score(y_data,y_pred,pos_label=1))+\"\\n\"+\n",
    "        \"POSITIVE PRECISION (Y=1): \"+str(precision_score(y_data,y_pred,pos_label=1))+\"\\n\"\n",
    "    )\n",
    "    cf=confusion_matrix(y_data, y_pred)\n",
    "    # customize the anno\n",
    "    group_names = [\"True Neg\",\"False Pos\",\"False Neg\",\"True Pos\"]\n",
    "    group_counts = [\"{0:0.0f}\".format(value) for value in cf.flatten()]\n",
    "    group_percentages = [\"{0:.2%}\".format(value) for value in cf.flatten()/np.sum(cf)]\n",
    "    labels = [f\"{v1}\\n{v2}\\n{v3}\" for v1, v2, v3 in zip(group_names,group_counts,group_percentages)]\n",
    "    labels = np.asarray(labels).reshape(2,2)\n",
    "    #plot the heatmap\n",
    "    fig=sns.heatmap(cf, annot=labels, fmt=\"\", cmap='Blues')\n",
    "    plt.title(\"Confusion Matrix of Texts - Decision Tree\",fontsize=18)\n",
    "    fig.set_xticklabels([\"Easily affected\",\"Not easily affected\"],fontsize=13)\n",
    "    fig.set_yticklabels([\"Easily affected\",\"Not easily affected\"],fontsize=13)\n",
    "    fig.set_xlabel(\"Predicted Labels\",fontsize=14)\n",
    "    fig.set_ylabel(\"True Labels\",fontsize=14)\n",
    "    plt.show()\n",
    "#fit the model with the best hyperparametres\n",
    "clf=SVC(C=1,kernel=\"linear\")\n",
    "clf.fit(x_train,y_train)\n",
    "yp_test=clf.predict(x_test)\n",
    "confusion_plot(y_test,yp_test)"
   ]
  },
  {
   "cell_type": "markdown",
   "metadata": {},
   "source": [
    "# Conclusion"
   ]
  },
  {
   "cell_type": "markdown",
   "metadata": {},
   "source": [
    "It shows that SVM  model is not suitable for my topic,it seems much worse than decision tree model when facing the same task. I think that I still need to stratch more information to achieve the target."
   ]
  }
 ],
 "metadata": {
  "kernelspec": {
   "display_name": "Python 3.10.4 ('ANLY501')",
   "language": "python",
   "name": "python3"
  },
  "language_info": {
   "codemirror_mode": {
    "name": "ipython",
    "version": 3
   },
   "file_extension": ".py",
   "mimetype": "text/x-python",
   "name": "python",
   "nbconvert_exporter": "python",
   "pygments_lexer": "ipython3",
   "version": "3.10.4"
  },
  "orig_nbformat": 4,
  "vscode": {
   "interpreter": {
    "hash": "2ddd99ca1cd60a6d592a3e5a1015c1873b0b9285575e102993a8fe6ba956236c"
   }
  }
 },
 "nbformat": 4,
 "nbformat_minor": 2
}
