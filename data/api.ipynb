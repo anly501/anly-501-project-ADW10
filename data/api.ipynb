{
 "cells": [
  {
   "cell_type": "code",
   "execution_count": 27,
   "metadata": {},
   "outputs": [
    {
     "name": "stdout",
     "output_type": "stream",
     "text": [
      "tweepy version = 4.10.1\n",
      "username= ADW10_924\n"
     ]
    }
   ],
   "source": [
    "import json\n",
    "import pandas as pd\n",
    "from unittest import IsolatedAsyncioTestCase\n",
    "import numpy as np\n",
    "\n",
    "# READ FILE\n",
    "f = open(\"api-keys.json\")\n",
    "input=json.load(f); #print(input)\n",
    "\n",
    "# LOAD KEYS INTO API\n",
    "consumer_key=input[\"consumer_key\"]    \n",
    "consumer_secret=input[\"consumer_secret\"]    \n",
    "access_token=input[\"access_token\"]    \n",
    "access_token_secret=input[\"access_token_secret\"]    \n",
    "bearer_token=input[\"bearer_token\"]    \n",
    "\n",
    "import tweepy\n",
    "# Set up Connection\n",
    "auth = tweepy.OAuthHandler(consumer_key, consumer_secret)\n",
    "auth.set_access_token(access_token, access_token_secret)\n",
    "api = tweepy.API(auth)  \n",
    "\n",
    "import tweepy\n",
    "print(\"tweepy version =\",tweepy.__version__)\n",
    "\n",
    "# Set up Connection\n",
    "auth = tweepy.OAuthHandler(consumer_key, consumer_secret)\n",
    "auth.set_access_token(access_token, access_token_secret)\n",
    "api = tweepy.API(auth)\n",
    "\n",
    "#print username\n",
    "my_user_name=api.verify_credentials().screen_name\n",
    "print(\"username=\",my_user_name)\n",
    "\n",
    "Iso=[]\n",
    "name=\"343627165\"\n",
    "\n",
    "statuses=api.user_timeline(user_id=343627165, count=20,tweet_mode='extended')\n",
    "for status in statuses:\n",
    "    Iso.append(status._json['full_text'])\n",
    "    \n",
    "\n",
    "pd.DataFrame(Iso).to_excel('Data_api.xlsx',sheet_name=\"sheet 1\",index=False)"
   ]
  },
  {
   "cell_type": "code",
   "execution_count": null,
   "metadata": {},
   "outputs": [],
   "source": []
  }
 ],
 "metadata": {
  "kernelspec": {
   "display_name": "Python 3.10.4 ('ANLY501')",
   "language": "python",
   "name": "python3"
  },
  "language_info": {
   "codemirror_mode": {
    "name": "ipython",
    "version": 3
   },
   "file_extension": ".py",
   "mimetype": "text/x-python",
   "name": "python",
   "nbconvert_exporter": "python",
   "pygments_lexer": "ipython3",
   "version": "3.10.4"
  },
  "orig_nbformat": 4,
  "vscode": {
   "interpreter": {
    "hash": "2ddd99ca1cd60a6d592a3e5a1015c1873b0b9285575e102993a8fe6ba956236c"
   }
  }
 },
 "nbformat": 4,
 "nbformat_minor": 2
}
